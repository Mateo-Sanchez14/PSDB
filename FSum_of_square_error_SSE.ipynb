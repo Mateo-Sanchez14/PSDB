{
 "cells": [
  {
   "cell_type": "code",
   "execution_count": 2,
   "metadata": {},
   "outputs": [],
   "source": [
    "import numpy as np"
   ]
  },
  {
   "cell_type": "markdown",
   "metadata": {},
   "source": [
    "Esta función calcula la suma de los cuadrados de los desvíos entre la distribución propuesta y los valores experimentales. Para realizar el cálculo se requieren las componentes x e y de los datos experimentales y de la distribución. El resultado es el valor de SSE. A continuación se presentan dos versiones."
   ]
  },
  {
   "cell_type": "code",
   "execution_count": 6,
   "metadata": {},
   "outputs": [],
   "source": [
    "def sse(xdata, ydata, xmodel, ymodel):\n",
    "    sserr = np.empty(0)\n",
    "    for i in np.arange(len(xdata)-1):\n",
    "        xmod = np.round(xmodel,3)\n",
    "        a = np.where(xmod == round(xdata[i],3))[0][0]\n",
    "        sserr = np.append(sserr, (ymodel[a]-ydata[i])**2)\n",
    "    return np.sum(sserr)"
   ]
  }
 ],
 "metadata": {
  "kernelspec": {
   "display_name": "Python 3",
   "language": "python",
   "name": "python3"
  },
  "language_info": {
   "codemirror_mode": {
    "name": "ipython",
    "version": 3
   },
   "file_extension": ".py",
   "mimetype": "text/x-python",
   "name": "python",
   "nbconvert_exporter": "python",
   "pygments_lexer": "ipython3",
   "version": "3.7.4"
  }
 },
 "nbformat": 4,
 "nbformat_minor": 2
}

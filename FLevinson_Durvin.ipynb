{
 "cells": [
  {
   "cell_type": "code",
   "execution_count": 1,
   "metadata": {},
   "outputs": [],
   "source": [
    "import numpy as np"
   ]
  },
  {
   "cell_type": "markdown",
   "metadata": {},
   "source": [
    "Esta función utiliza el algoritmo Levinson-Durvin para determinar los coeficientes de un modelo AR (autoregresivo) de orden p para la señal \"data\", una predicción de la señal dada a partir de sus últimas p muestras y los residuos de la predicción. Si se define lev = levinson(data, p) entonces lev[0] serán los coeficientes del modelo, lev[1] será la predicción lineal de la señal y lev[2] serán los residuos"
   ]
  },
  {
   "cell_type": "code",
   "execution_count": 2,
   "metadata": {},
   "outputs": [],
   "source": [
    "def levinson(data,p):\n",
    "    N = len(data)\n",
    "    r = np.correlate(data-np.mean(data),data-np.mean(data),'full')/(N*np.std(data)**2)\n",
    "    R = np.flip(r[0:N])\n",
    "    E = np.zeros(p+1); k = np.zeros(p+1); Coef = np.zeros((p+1,p+1)); E[0] = R[0]\n",
    "    for m in np.arange(1,p+1):\n",
    "        if m == 1:\n",
    "            k[m] = - R[m]/E[m-1]\n",
    "            Coef[m,1] = k[m]\n",
    "            E[m] = (1-k[m]**2)*E[m-1]\n",
    "        else:\n",
    "            s = 0\n",
    "            for i in np.arange(1,m):\n",
    "                s = s + Coef[m-1,i]*R[m-i]\n",
    "                Coef[m,i] = Coef[m-1,i] + Coef[m,m]\n",
    "            k[m] = - (R[m] + s)/E[m-1]\n",
    "            Coef[m,m] = k[m]\n",
    "            for i in np.arange(1,m):\n",
    "                Coef[m,i] = Coef[m-1,i] + Coef[m,m] * Coef[m-1,m-i]\n",
    "            E[m] = (1-k[m]**2)*E[m-1]\n",
    "    coef = Coef[p,:]\n",
    "    dataEstim = np.zeros(N); dataEstim[0] = 0\n",
    "    for i in np.arange(1,N):\n",
    "        s = 0\n",
    "        for j in np.arange(1,p):\n",
    "            if i - j >= 0:\n",
    "                s = s - coef[j] * data[i-j]\n",
    "        dataEstim[i] = s\n",
    "    Residuos = data - dataEstim\n",
    "    return coef[1:p+1], dataEstim, Residuos"
   ]
  },
  {
   "cell_type": "code",
   "execution_count": null,
   "metadata": {},
   "outputs": [],
   "source": []
  }
 ],
 "metadata": {
  "kernelspec": {
   "display_name": "Python 3",
   "language": "python",
   "name": "python3"
  },
  "language_info": {
   "codemirror_mode": {
    "name": "ipython",
    "version": 3
   },
   "file_extension": ".py",
   "mimetype": "text/x-python",
   "name": "python",
   "nbconvert_exporter": "python",
   "pygments_lexer": "ipython3",
   "version": "3.7.4"
  }
 },
 "nbformat": 4,
 "nbformat_minor": 2
}

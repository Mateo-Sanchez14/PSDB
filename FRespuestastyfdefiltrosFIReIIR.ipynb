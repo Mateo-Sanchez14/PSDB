{
 "cells": [
  {
   "cell_type": "code",
   "execution_count": 1,
   "metadata": {},
   "outputs": [],
   "source": [
    "import numpy as np\n",
    "import matplotlib.pyplot as plt\n",
    "import import_ipynb\n",
    "from matplotlib import gridspec\n",
    "from scipy.fftpack import fft, fftfreq, ifft"
   ]
  },
  {
   "cell_type": "markdown",
   "metadata": {},
   "source": [
    "## Función para obtener la respuesta temporal de un filtro FIR"
   ]
  },
  {
   "cell_type": "markdown",
   "metadata": {},
   "source": [
    "Esta función permite obtener la respuesta temporal de un filtro FIR a una dada entrada. Para ello es necesario ingresar 4 vectores. xinput es la señal de entrada al filtro FIR (coordenada y), ninput es la secuencia de coordenadas x correspondiente a la señal de entrada. Luego h es el vector de los coeficientes del filtro y nh su correspondiente secuencia de coordenadas x. La función devuelve una matriz de m filas x 2 columnas, donde m = longitud(xinput) + longitud(h) - 1. La primera columna corresponde a la secuencia de coordenadas x de la respuesta y la segunda columna es la respuesta propiamente dicha del filtro FIR a la entrada xinput. \n",
    "Nota: Esta función supone que la frecuencia de muestreo de la señal de entrada es 1. Si no es uno, habría que modificarla como se vio en el tema de convolución discreta."
   ]
  },
  {
   "cell_type": "code",
   "execution_count": 1,
   "metadata": {},
   "outputs": [],
   "source": [
    "def FIRrespt(ninput,xinput,nh,h):\n",
    "    Nx=len(xinput);Nh=len(h);conv=np.convolve(xinput,h);n0=ninput[0]+nh[0];Nconv=Nx+Nh-1;nconv=np.arange(n0,n0 + Nconv);\n",
    "    R = np.vstack((nconv,conv)).T\n",
    "    return R   "
   ]
  },
  {
   "cell_type": "markdown",
   "metadata": {},
   "source": [
    "## Función para obtener la respuesta en frecuencia de un filtro FIR"
   ]
  },
  {
   "cell_type": "markdown",
   "metadata": {},
   "source": [
    "Esta función permite obtener la respuesta en frecuencia de un filtro FIR. Para ello es necesario ingresar 2 vectores. w es el vector de frecuencias angulares sobre el que se evalúa la respuesta y h es el vector de los coeficientes del filtro. La función devuelve una matriz de m filas x 3 columnas, donde m = longitud(w). La primera columna corresponde a la secuencia de coordenadas x (frecuencias) de la respuesta, la segunda columna es el módulo y la tercera es la fase de la respuesta en frecuencia propiamente dicha del filtro FIR."
   ]
  },
  {
   "cell_type": "code",
   "execution_count": 3,
   "metadata": {},
   "outputs": [],
   "source": [
    "def FIRrespf(w,h):\n",
    "    Nh=len(h); H = 0\n",
    "    for i in np.arange(Nh):\n",
    "        H = H + h[i]*np.exp(-1j*w*i)\n",
    "    R = np.vstack((w,abs(H),np.angle(H))).T\n",
    "    return R "
   ]
  },
  {
   "cell_type": "markdown",
   "metadata": {},
   "source": [
    "## Función para obtener la respuesta temporal de un filtro IIR"
   ]
  },
  {
   "cell_type": "markdown",
   "metadata": {},
   "source": [
    "Esta función permite obtener la respuesta temporal de un filtro IIR a una dada entrada. Para ello es necesario ingresar 3 vectores. xinput es la señal de entrada al filtro IIR (coordenada y), c es el vector de los coeficientes que multiplica a las entradas del filtro y d es el vector de los coeficientes que multiplica a las salidas del filtro. Los vectores c y d deben tener la misma longitud. Observaciones: (1) El vector xinput debe estar definido para n >= 0. (2) Se supone que las condiciones iniciales corresponden al reposo. Habrá N condiciones iniciales, donde N es el mayor retraso temporal de la salida. "
   ]
  },
  {
   "cell_type": "code",
   "execution_count": null,
   "metadata": {},
   "outputs": [],
   "source": [
    "def IIRrespt(xinput,c,d):\n",
    "    N1 = len(xinput) # \n",
    "    nx = np.arange(-(len(c)-1),N1)\n",
    "    x = xinput\n",
    "    for k in np.arange(len(c)-1):\n",
    "        x = np.insert(x,0,0)\n",
    "    ny = np.arange(-(len(d)-1),N1)\n",
    "    y = np.arange(0,len(ny),dtype=np.float64)\n",
    "    for k in np.arange(len(d)-1):\n",
    "        y[k] = 0\n",
    "    for i in np.arange(len(d)-1,len(y)):\n",
    "        z = 0\n",
    "        for j in np.arange(1,len(d)):\n",
    "            z = z - d[j]*y[i-j] + c[j]*x[i-j]\n",
    "        y[i] = (z + c[0]* x[i])/d[0]\n",
    "    R = np.vstack((ny,y)).T\n",
    "    return R"
   ]
  },
  {
   "cell_type": "markdown",
   "metadata": {},
   "source": [
    "## Función para obtener la respuesta en frecuencia de un filtro IIR"
   ]
  },
  {
   "cell_type": "markdown",
   "metadata": {},
   "source": [
    "Esta función permite obtener la respuesta en frecuencia de un filtro IIR. Para ello es necesario ingresar 3 vectores. w es el vector de frecuencias angulares sobre el que se evalúa la respuesta, c es el vector de los coeficientes de las entradas del filtro y d es el vector de los coeficientes de las salidas del filtro. La función devuelve una matriz de m filas x 3 columnas, donde m = longitud(w). La primera columna corresponde a la secuencia de coordenadas x (frecuencias) de la respuesta, la segunda columna es el módulo y la tercera es la fase de la respuesta en frecuencia propiamente dicha del filtro IIR."
   ]
  },
  {
   "cell_type": "code",
   "execution_count": 4,
   "metadata": {},
   "outputs": [],
   "source": [
    "def IIRrespf(w,c,d):\n",
    "    Nc=len(c); Nd=len(d); Hnum = 0; Hden = 0\n",
    "    for i in np.arange(Nc):\n",
    "        Hnum = Hnum + c[i]*np.exp(-1j*w*i)\n",
    "    for i in np.arange(Nd):\n",
    "        Hden = Hden + d[i]*np.exp(-1j*w*i)\n",
    "    H = np.divide(Hnum,Hden)\n",
    "    R = np.vstack((w,abs(H),np.angle(H))).T\n",
    "    return R"
   ]
  },
  {
   "cell_type": "code",
   "execution_count": null,
   "metadata": {},
   "outputs": [],
   "source": []
  }
 ],
 "metadata": {
  "kernelspec": {
   "display_name": "Python 3",
   "language": "python",
   "name": "python3"
  },
  "language_info": {
   "codemirror_mode": {
    "name": "ipython",
    "version": 3
   },
   "file_extension": ".py",
   "mimetype": "text/x-python",
   "name": "python",
   "nbconvert_exporter": "python",
   "pygments_lexer": "ipython3",
   "version": "3.7.4"
  }
 },
 "nbformat": 4,
 "nbformat_minor": 2
}

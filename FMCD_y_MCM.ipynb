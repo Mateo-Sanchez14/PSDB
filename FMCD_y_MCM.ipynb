{
 "cells": [
  {
   "cell_type": "code",
   "execution_count": 1,
   "metadata": {},
   "outputs": [],
   "source": [
    "import numpy as np"
   ]
  },
  {
   "cell_type": "code",
   "execution_count": 2,
   "metadata": {},
   "outputs": [],
   "source": [
    "# Maximo comun divisor\n",
    "def mcd(num1, num2):\n",
    "    a = max(num1, num2)\n",
    "    b = min(num1, num2)\n",
    "    while b!=0:\n",
    "        mcd = b\n",
    "        b = a%b\n",
    "        a = mcd\n",
    "    return mcd\n",
    "\n",
    "# Minimo comun multiplo\n",
    "def mcm(num1, num2):\n",
    "    a = max(num1, num2)\n",
    "    b = min(num1, num2)\n",
    "    mcm = (a / mcd(a, b)) * b\n",
    "    return mcm"
   ]
  },
  {
   "cell_type": "code",
   "execution_count": 3,
   "metadata": {},
   "outputs": [],
   "source": [
    "def mcd_3(num1, num2, num3):\n",
    "    return mcd(num1,mcd(num2,num3))"
   ]
  },
  {
   "cell_type": "code",
   "execution_count": null,
   "metadata": {},
   "outputs": [],
   "source": [
    "mcd_3"
   ]
  }
 ],
 "metadata": {
  "kernelspec": {
   "display_name": "Python 3",
   "language": "python",
   "name": "python3"
  },
  "language_info": {
   "codemirror_mode": {
    "name": "ipython",
    "version": 3
   },
   "file_extension": ".py",
   "mimetype": "text/x-python",
   "name": "python",
   "nbconvert_exporter": "python",
   "pygments_lexer": "ipython3",
   "version": "3.7.4"
  }
 },
 "nbformat": 4,
 "nbformat_minor": 2
}

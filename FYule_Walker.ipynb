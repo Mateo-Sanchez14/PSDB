{
 "cells": [
  {
   "cell_type": "code",
   "execution_count": 1,
   "metadata": {},
   "outputs": [],
   "source": [
    "import numpy as np"
   ]
  },
  {
   "cell_type": "markdown",
   "metadata": {},
   "source": [
    "Esta función resuelve el sistema de ecuaciones de Jule-Walker que de la forma A x = B, donde A es una matriz de toeplitz de orden (p,p) formada con los elelemtos del vector de autocorrelación correspondientes a los diferentes retardos de la señal data; X es el vector de la p incógnitas y B es otro vector de orden de p elementos. Este algoritmo arroja tres resultados: 1) los coeficientes de un modelo AR (autoregresivo) de orden p para la señal \"data\", 2) una predicción de la señal dada a partir de sus últimas p muestras y 3) los residuos de la predicción. Si se define YW = YuleWalker(data, p) entonces YW[0] serán los coeficientes del modelo, YW[1] será la predicción lineal de la señal y YW[2] serán los residuos"
   ]
  },
  {
   "cell_type": "code",
   "execution_count": 2,
   "metadata": {},
   "outputs": [],
   "source": [
    "def YuleWalker(data,p):\n",
    "    N = len(data)\n",
    "    r = np.correlate(data-np.mean(data),data-np.mean(data),'full')/(N*np.std(data)**2)\n",
    "    R = np.flip(r[0:N])\n",
    "    \n",
    "    def toeplitz(q):\n",
    "        M = np.empty((len(q),len(q)));\n",
    "        for i in np.arange(len(q)):\n",
    "            for j in np.arange(len(q)):\n",
    "                if j >= i:\n",
    "                    M[i,j] = q[j-i]\n",
    "                else:\n",
    "                    M[i,j] = M[j,i]\n",
    "        return M\n",
    "\n",
    "    A = toeplitz(R[:p])\n",
    "    B = -R[1:p+1]\n",
    "    coefYW = np.linalg.inv(A).dot(B)\n",
    "    dataEstimYW = np.zeros(N)\n",
    "    dataEstimYW[0] = 0\n",
    "    for i in np.arange(0,N):\n",
    "        s = 0\n",
    "        for j in np.arange(0,p):\n",
    "            if i - j >= 0:\n",
    "                s = s - coefYW[j] * data[i-j]\n",
    "        dataEstimYW[i] = s\n",
    "    ResiduosYW = data - dataEstimYW\n",
    "    return coefYW, dataEstimYW, ResiduosYW"
   ]
  },
  {
   "cell_type": "code",
   "execution_count": null,
   "metadata": {},
   "outputs": [],
   "source": []
  }
 ],
 "metadata": {
  "kernelspec": {
   "display_name": "Python 3",
   "language": "python",
   "name": "python3"
  },
  "language_info": {
   "codemirror_mode": {
    "name": "ipython",
    "version": 3
   },
   "file_extension": ".py",
   "mimetype": "text/x-python",
   "name": "python",
   "nbconvert_exporter": "python",
   "pygments_lexer": "ipython3",
   "version": "3.7.4"
  }
 },
 "nbformat": 4,
 "nbformat_minor": 2
}

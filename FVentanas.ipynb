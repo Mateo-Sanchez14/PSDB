{
 "cells": [
  {
   "cell_type": "code",
   "execution_count": 1,
   "metadata": {},
   "outputs": [],
   "source": [
    "import numpy as np"
   ]
  },
  {
   "cell_type": "markdown",
   "metadata": {},
   "source": [
    "Esta función representa una ventana rectangular de semiancho M (longitud de la ventana 2M+1) desplazada (para evitar el efecto de no causalidad). El primer argumento permite elegir la ventana a utilizar. Las opciones son: 'rectangular', 'hanning', 'hamming' y 'Blackman'. El segundo argumento que requiere es M. La función devuelve una matriz de (2m+1) filas x 2 columnas. La primera columna corresponde a la secuencia de n (dominio de t-discreto) y la segunda columna es la ventana propiamente dicha."
   ]
  },
  {
   "cell_type": "code",
   "execution_count": 3,
   "metadata": {},
   "outputs": [],
   "source": [
    "def vent(vent_name,M):\n",
    "    nw = np.arange(2*M+1)\n",
    "    if vent_name == 'rectangular':\n",
    "        ventana = np.piecewise(nw,nw>=0,[1,0])\n",
    "    elif vent_name == 'hanning':\n",
    "        ventana = 0.5*(1+np.cos(2*np.pi*(nw-M)/(2*M+1)))\n",
    "    elif vent_name == 'hamming':\n",
    "        ventana = 0.54+0.46*np.cos(2*np.pi*(nw-M)/(2*M+1))\n",
    "    elif vent_name == 'blackman':\n",
    "        ventana = 0.42+0.5*np.cos(2*np.pi*(nw-M)/(2*M+1))+0.08*np.cos(4*np.pi*(nw-M)/(2*M+1))\n",
    "    return np.vstack((nw,ventana)).T"
   ]
  },
  {
   "cell_type": "markdown",
   "metadata": {},
   "source": [
    "Esta función calcula la respuesta en frecuencia de una ventana rectangular de longitud (2*M+1). Sólo requiere dos argumentos: w y la ventana, donde w es el vector de frecuencias angulares sobre el que se evalúa la respuesta y ventana es el vector ventana propiamente dicho. La función devuelve una matriz de m filas x 3 columnas, donde m = longitud(w). La primera columna corresponde a la secuencia de coordenadas x (frecuencias angulares) de la respuesta, la segunda columna es el módulo y la tercera es la fase de la respuesta en frecuencia de la ventana."
   ]
  },
  {
   "cell_type": "code",
   "execution_count": 13,
   "metadata": {},
   "outputs": [],
   "source": [
    "def Hvent(w,ventana):\n",
    "    z = 0\n",
    "    for k in np.arange(len(ventana)):\n",
    "        z = z + ventana[k]*np.exp(-1j*w*k)\n",
    "    aux = z\n",
    "    return np.vstack((w,abs(aux),np.angle(aux))).T"
   ]
  },
  {
   "cell_type": "code",
   "execution_count": null,
   "metadata": {},
   "outputs": [],
   "source": []
  }
 ],
 "metadata": {
  "kernelspec": {
   "display_name": "Python 3",
   "language": "python",
   "name": "python3"
  },
  "language_info": {
   "codemirror_mode": {
    "name": "ipython",
    "version": 3
   },
   "file_extension": ".py",
   "mimetype": "text/x-python",
   "name": "python",
   "nbconvert_exporter": "python",
   "pygments_lexer": "ipython3",
   "version": "3.7.4"
  }
 },
 "nbformat": 4,
 "nbformat_minor": 2
}

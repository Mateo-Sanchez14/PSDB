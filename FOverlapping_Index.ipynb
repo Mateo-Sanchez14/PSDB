{
 "cells": [
  {
   "cell_type": "code",
   "execution_count": 1,
   "metadata": {},
   "outputs": [],
   "source": [
    "import numpy as np"
   ]
  },
  {
   "cell_type": "markdown",
   "metadata": {},
   "source": [
    "Esta función calcula el índice de solapamiento entre dos funciones de densidad de probabilidad (pdf). Los argumentos necesarios son 3 vectores: x: vector de absisas y f1 y f2 son las dos pdf's. El vector de absisas x debe ser común a f1 y f2."
   ]
  },
  {
   "cell_type": "code",
   "execution_count": 2,
   "metadata": {},
   "outputs": [],
   "source": [
    "def area(x,f1,f2):\n",
    "    N = len(x); minimo = np.arange(N,dtype=float); h = 0\n",
    "    for i in np.arange(N):\n",
    "        minimo[i] = np.min([f1[i],f2[i]])\n",
    "    for i in np.arange(N-1):\n",
    "        h = h + (minimo[i+1]+minimo[i])*((x[i+1]-x[i])/2)\n",
    "    return h"
   ]
  },
  {
   "cell_type": "code",
   "execution_count": null,
   "metadata": {},
   "outputs": [],
   "source": []
  }
 ],
 "metadata": {
  "kernelspec": {
   "display_name": "Python 3",
   "language": "python",
   "name": "python3"
  },
  "language_info": {
   "codemirror_mode": {
    "name": "ipython",
    "version": 3
   },
   "file_extension": ".py",
   "mimetype": "text/x-python",
   "name": "python",
   "nbconvert_exporter": "python",
   "pygments_lexer": "ipython3",
   "version": "3.7.4"
  }
 },
 "nbformat": 4,
 "nbformat_minor": 2
}

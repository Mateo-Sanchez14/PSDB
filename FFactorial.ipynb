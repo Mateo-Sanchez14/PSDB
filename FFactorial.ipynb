{
 "cells": [
  {
   "cell_type": "code",
   "execution_count": 1,
   "metadata": {},
   "outputs": [],
   "source": [
    "import numpy as np"
   ]
  },
  {
   "cell_type": "markdown",
   "metadata": {},
   "source": [
    "Esta función calcula el factorial del número k."
   ]
  },
  {
   "cell_type": "code",
   "execution_count": 3,
   "metadata": {},
   "outputs": [],
   "source": [
    "def factorial (k):\n",
    "    if k==0 or k==1:\n",
    "        resultado = 1\n",
    "    else:\n",
    "        resultado = k*factorial (k-1)\n",
    "    return resultado"
   ]
  }
 ],
 "metadata": {
  "interpreter": {
   "hash": "e68c07a20ef7f62d350c7253084b670dc0cc2d9237f8038092070b02018c0a8b"
  },
  "kernelspec": {
   "display_name": "Python 3.9.7 ('base')",
   "language": "python",
   "name": "python3"
  },
  "language_info": {
   "codemirror_mode": {
    "name": "ipython",
    "version": 3
   },
   "file_extension": ".py",
   "mimetype": "text/x-python",
   "name": "python",
   "nbconvert_exporter": "python",
   "pygments_lexer": "ipython3",
   "version": "3.9.7"
  },
  "orig_nbformat": 4
 },
 "nbformat": 4,
 "nbformat_minor": 2
}

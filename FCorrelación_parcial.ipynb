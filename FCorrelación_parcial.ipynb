{
 "cells": [
  {
   "cell_type": "code",
   "execution_count": 1,
   "metadata": {},
   "outputs": [],
   "source": [
    "import numpy as np"
   ]
  },
  {
   "cell_type": "markdown",
   "metadata": {},
   "source": [
    "Esta función calcula la correlación parcial entre dos vectores x y h en función de retardos. Los argumentos necesarios son dos vectores a correlacionar. Los dos vectores deben tener la misma longitud. El vector correlación parcial tiene la misma cantidad de elementos que x y que h y toma como primer elemento aquel en el que x y h están superpuestos (retardo = 0).\n",
    "La correlación parcial es una versión de la correlación cruzada entre x y h que sustrae las medias y normaliza el vector de salida dividiéndolo por el producto de la longitud del vector por las desviaciones estándard de los vectores."
   ]
  },
  {
   "cell_type": "code",
   "execution_count": null,
   "metadata": {},
   "outputs": [],
   "source": [
    "def lcorr(x,h):\n",
    "    N = len(x); p = np.arange(N)\n",
    "    R = np.correlate(x-np.mean(x),h-np.mean(h),'full')/(N*np.std(x)*np.std(h))\n",
    "    R1 = np.flip(R[0:N])\n",
    "    RR = np.vstack((p,R1)).T\n",
    "    return RR"
   ]
  }
 ],
 "metadata": {
  "kernelspec": {
   "display_name": "Python 3",
   "language": "python",
   "name": "python3"
  },
  "language_info": {
   "codemirror_mode": {
    "name": "ipython",
    "version": 3
   },
   "file_extension": ".py",
   "mimetype": "text/x-python",
   "name": "python",
   "nbconvert_exporter": "python",
   "pygments_lexer": "ipython3",
   "version": "3.7.4"
  }
 },
 "nbformat": 4,
 "nbformat_minor": 2
}

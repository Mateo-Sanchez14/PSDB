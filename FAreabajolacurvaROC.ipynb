{
 "cells": [
  {
   "cell_type": "code",
   "execution_count": 1,
   "metadata": {},
   "outputs": [],
   "source": [
    "import numpy as np"
   ]
  },
  {
   "cell_type": "markdown",
   "metadata": {},
   "source": [
    "Esta función calcula el área bajo la curva ROC. La curva ROC es la definida cuando se representan cdf1 (función de distribución de probabilidad 1) versos cdf2 (función de distribución de probabilidad 2). Cuánto más se parezcan cdf1 y cdf2, más próxima a 1/2 será el área bajo la curva ROC. Los argumentos necesarios son dos vectores de igual longitud: cdf1 y cdf2."
   ]
  },
  {
   "cell_type": "code",
   "execution_count": 2,
   "metadata": {},
   "outputs": [],
   "source": [
    "def AUC (cdf1,cdf2):\n",
    "    N = len (cdf1) ; g = 0\n",
    "    for j in np.arange (N-1):\n",
    "        g = g + (cdf2[j+1] + cdf2[j]) * ((cdf1[j+1] - cdf1[j]))\n",
    "    return (2-g)/2"
   ]
  }
 ],
 "metadata": {
  "interpreter": {
   "hash": "e68c07a20ef7f62d350c7253084b670dc0cc2d9237f8038092070b02018c0a8b"
  },
  "kernelspec": {
   "display_name": "Python 3.9.7 ('base')",
   "language": "python",
   "name": "python3"
  },
  "language_info": {
   "codemirror_mode": {
    "name": "ipython",
    "version": 3
   },
   "file_extension": ".py",
   "mimetype": "text/x-python",
   "name": "python",
   "nbconvert_exporter": "python",
   "pygments_lexer": "ipython3",
   "version": "3.9.7"
  },
  "orig_nbformat": 4
 },
 "nbformat": 4,
 "nbformat_minor": 2
}

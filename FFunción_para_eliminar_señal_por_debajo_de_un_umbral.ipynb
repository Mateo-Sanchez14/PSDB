{
 "cells": [
  {
   "cell_type": "code",
   "execution_count": 17,
   "metadata": {},
   "outputs": [],
   "source": [
    "import numpy as np\n",
    "import import_ipynb\n",
    "from Función_envolvente_rms import envolvente_rms"
   ]
  },
  {
   "cell_type": "markdown",
   "metadata": {},
   "source": [
    "Esta función elimina las partes de una señal que se encuentra por debajo de un umbral, empleando la envolvente rms de la señal. Los argumentos de la función son: la señal (signal), el umbral y el ancho de la ventana que se usará para determinar la envolvente. Esta función devuelve tres argumentos: el valor de k que representa el número de contracciones con longitud > 100 muestras, los indices de comienzo y fin de cada una y la new_signal correspondiente."
   ]
  },
  {
   "cell_type": "code",
   "execution_count": 18,
   "metadata": {},
   "outputs": [],
   "source": [
    "def EliminaConUmbral(signal,umbral,window_size):\n",
    "    h = umbral;  y = envolvente_rms(signal,window_size);\n",
    "    ind = np.where(y > h)[0]; dig = np.zeros(len(signal));\n",
    "    dig[ind] = 0.25; dif = np.diff(dig); \n",
    "    ini = np.where(dif == 0.25)[0]; fin = np.where(dif == -0.25)[0]\n",
    "    i = 0\n",
    "    while ini[0] > fin[i]:\n",
    "        i = i + 1\n",
    "    if i > 0:\n",
    "        fin[0:len(fin)-1] = fin[i:len(fin)]\n",
    "    p = np.min([len(ini),len(fin)])\n",
    "    k = 0\n",
    "    new_signal = np.empty(0)\n",
    "    indices = np.empty(0)\n",
    "    for i in np.arange(p):\n",
    "        d = fin[i] - ini[i]\n",
    "        if d > 100:\n",
    "            new_signal = np.append(new_signal, signal[ini[i]:fin[i]+1])\n",
    "            indices = np.append(indices, np.array([ini[i],fin[i]]))\n",
    "            k = k + 1\n",
    "    return k, indices, new_signal"
   ]
  },
  {
   "cell_type": "code",
   "execution_count": null,
   "metadata": {},
   "outputs": [],
   "source": []
  }
 ],
 "metadata": {
  "kernelspec": {
   "display_name": "Python 3",
   "language": "python",
   "name": "python3"
  },
  "language_info": {
   "codemirror_mode": {
    "name": "ipython",
    "version": 3
   },
   "file_extension": ".py",
   "mimetype": "text/x-python",
   "name": "python",
   "nbconvert_exporter": "python",
   "pygments_lexer": "ipython3",
   "version": "3.9.7"
  }
 },
 "nbformat": 4,
 "nbformat_minor": 2
}

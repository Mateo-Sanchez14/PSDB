{
 "cells": [
  {
   "cell_type": "code",
   "execution_count": 4,
   "metadata": {},
   "outputs": [],
   "source": [
    "import numpy as np\n",
    "import import_ipynb\n",
    "from itertools import combinations"
   ]
  },
  {
   "cell_type": "markdown",
   "metadata": {},
   "source": [
    "## Función para obtener los coeficientes del filtro a partir de ceros/polos"
   ]
  },
  {
   "cell_type": "markdown",
   "metadata": {},
   "source": [
    "Esta función permite obtener los coeficientes de un filtro conociendo los ceros/polos en el plano Z. En el caso de conocer los ceros en el plano Z, esta función encuentra los coeficientes del polinomio numerador y en el caso conocer los polos, la función determina los coeficientes del polinomio denominador."
   ]
  },
  {
   "cell_type": "code",
   "execution_count": 5,
   "metadata": {},
   "outputs": [],
   "source": [
    "def coeff(ceros):\n",
    "    def factorial(k):\n",
    "        if k==0 or k==1:\n",
    "            resultado = 1\n",
    "        else:\n",
    "            resultado = k*factorial(k-1)\n",
    "        return resultado\n",
    "    n = len(ceros)\n",
    "    c = np.arange(n+1,dtype=complex)\n",
    "    for i in np.arange(n+1):\n",
    "        m = i\n",
    "        comb = list(combinations(ceros, m))\n",
    "        arr_comb = np.array(comb)\n",
    "        a = 0\n",
    "        for j in np.arange(int(factorial(n)/(factorial(m)*factorial(n-m)))):\n",
    "            z = 1\n",
    "            for k in np.arange(m):\n",
    "                z = z * arr_comb[j][k]\n",
    "            a = a + z*(-1)**m\n",
    "        c[i] = a\n",
    "    return c.real"
   ]
  },
  {
   "cell_type": "code",
   "execution_count": null,
   "metadata": {},
   "outputs": [],
   "source": []
  }
 ],
 "metadata": {
  "kernelspec": {
   "display_name": "Python 3",
   "language": "python",
   "name": "python3"
  },
  "language_info": {
   "codemirror_mode": {
    "name": "ipython",
    "version": 3
   },
   "file_extension": ".py",
   "mimetype": "text/x-python",
   "name": "python",
   "nbconvert_exporter": "python",
   "pygments_lexer": "ipython3",
   "version": "3.7.4"
  }
 },
 "nbformat": 4,
 "nbformat_minor": 2
}

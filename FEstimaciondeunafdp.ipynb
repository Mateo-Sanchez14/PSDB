{
 "cells": [
  {
   "cell_type": "code",
   "execution_count": 67,
   "metadata": {},
   "outputs": [],
   "source": [
    "import matplotlib.pyplot as plt\n",
    "import numpy as np\n",
    "import pandas as pd"
   ]
  },
  {
   "cell_type": "markdown",
   "metadata": {},
   "source": [
    "Esta función estima la función de densidad de probabilidad de una señal por el método Kernel. Realiza la estimación empleando el Kernel Gaussiano (K(x)=exp(-x*x/2)/sqrt(2𝜋) que es la función de densidad de la distribución normal). \n",
    "Como ancho de banda (bw) emplea el bw.nrd0 que es una regla general simple y bien probada de Silverman (Max Kohler, Anja Schindler, Stefan Sperlich. (2011). A Review and Comparison of Bandwidth Selection Methods for Kernel Regression) para la selección de bw. El valor de bw se calcula como 0.9 veces el mínimo entre la desviación estándar y el rango\n",
    "intercuartílico dividio por 1.34, y multiplicado por el tamaño de la muestra elevado a la potencia negativa de un quinto.\n",
    "Los argumentos necesarios son: \n",
    "x: señal normalizada. Para normalizar la señal se debe calcular la media (mu) y su desvío estándard (sd) de la señal y luego x=(señal-mu)/sd.\n",
    "bwadjust: Este es un factor por el que se puede multiplicar  el ancho de banda bw a efectos de mejorar el ajuste.\n",
    "Eventualmente se podía hacer que se ingrese, además, un vector \"y\" que defina un intervalo de variación de la absisa. Este reemplazaría  a An. "
   ]
  },
  {
   "cell_type": "code",
   "execution_count": 74,
   "metadata": {},
   "outputs": [],
   "source": [
    "def pdf(x,bwadjust):\n",
    "    N = len(x)\n",
    "    Np = 2000\n",
    "    max = np.max((x.max(),1))\n",
    "    min = np.min((x.min(),-1))\n",
    "    d = (max-min)/Np\n",
    "    Yn = np.ndarray(Np)\n",
    "    x1 = np.sort(x)\n",
    "    k = int(N/4)\n",
    "    z = np.array([(x1[N-k]-x1[k])/1.34,1])\n",
    "    r = z.min()\n",
    "    bw = 0.9*r*N**(-1/5)\n",
    "    h = bw*bwadjust\n",
    "    c = N*h*np.sqrt(2*np.pi)\n",
    "    An = min + d * np.arange(Np)\n",
    "    for i in np.arange(Np):\n",
    "        b = (An[i]-x)/h\n",
    "        a = np.exp(-b*b*0.5)\n",
    "        Yn[i] = np.sum(a)/c\n",
    "    m2 = np.vstack((An,Yn)).T\n",
    "    return m2"
   ]
  },
  {
   "cell_type": "code",
   "execution_count": null,
   "metadata": {},
   "outputs": [],
   "source": []
  }
 ],
 "metadata": {
  "kernelspec": {
   "display_name": "Python 3",
   "language": "python",
   "name": "python3"
  },
  "language_info": {
   "codemirror_mode": {
    "name": "ipython",
    "version": 3
   },
   "file_extension": ".py",
   "mimetype": "text/x-python",
   "name": "python",
   "nbconvert_exporter": "python",
   "pygments_lexer": "ipython3",
   "version": "3.7.4"
  }
 },
 "nbformat": 4,
 "nbformat_minor": 2
}

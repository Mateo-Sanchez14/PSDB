{
 "cells": [
  {
   "cell_type": "code",
   "execution_count": 4,
   "metadata": {},
   "outputs": [],
   "source": [
    "import numpy as np"
   ]
  },
  {
   "cell_type": "markdown",
   "metadata": {},
   "source": [
    "Esta función utiliza el algoritmo  de Burg para determinar los coeficientes de un modelo AR (autoregresivo) de orden p de la Aproximación de Máxima Entropía para la señal \"data\", una estimación de la señal dada realizando predicciones hacia adelante y atrás de orden p y los residuos de la predicción. Si se define B = burg(data, p) entonces B[0] serán los coeficientes del modelo, B[1] será la predicción lineal de la señal y B[2] serán los residuos"
   ]
  },
  {
   "cell_type": "code",
   "execution_count": 5,
   "metadata": {},
   "outputs": [],
   "source": [
    "def burg(data,p):\n",
    "    N = len(data)\n",
    "    r = np.correlate(data-np.mean(data),data-np.mean(data),'full')/(N*np.std(data)**2)\n",
    "    R = np.flip(r[0:N])\n",
    "    E = np.zeros(p+1); k = np.zeros(p+1); Coef = np.zeros((p+1,p+1)); b = np.zeros((p+1,N+1))\n",
    "    e = np.zeros((p+1,N+1)); E[0] = np.sum(data**2)/N\n",
    "    for q in np.arange(1,N):\n",
    "        b[0,q] = data[q]\n",
    "        e[0,q] = data[q]\n",
    "    for m in np.arange(1,p+1):\n",
    "        be = 0\n",
    "        be2 = 0\n",
    "        for j in np.arange(m+1,N+1):\n",
    "            be = be + b[m-1,j-1] * e[m-1,j]\n",
    "            be2 = be2 + (b[m-1,j-1]**2 + e[m-1,j]**2)\n",
    "        k[m] = -2 * be/be2\n",
    "        E[m] = (1-k[m]**2)*E[m-1]\n",
    "        Coef[m,m] = k[m]\n",
    "        for i in np.arange(1,m):\n",
    "            Coef[m,i] = Coef[m-1,i] + Coef[m,m] * Coef[m-1,m-i]\n",
    "        for n in np.arange(1,N-m+1):\n",
    "            e[m,n] = e[m-1,n] + Coef[m,m] * b[m-1,n-1]\n",
    "            b[m,n] = b[m-1,n-1] + Coef[m,m] * e[m-1,n]\n",
    "    coef = Coef[p,:]\n",
    "    dataEstim = np.zeros(N); dataEstim[0] = 0\n",
    "    for i in np.arange(1,N):\n",
    "        s = 0\n",
    "        for j in np.arange(1,p):\n",
    "            if i - j >= 0:\n",
    "                s = s - coef[j] * data[i-j]\n",
    "        dataEstim[i] = s\n",
    "    Residuos = data - dataEstim\n",
    "    return coef[1:p+1], dataEstim, Residuos"
   ]
  },
  {
   "cell_type": "code",
   "execution_count": null,
   "metadata": {},
   "outputs": [],
   "source": []
  }
 ],
 "metadata": {
  "kernelspec": {
   "display_name": "Python 3",
   "language": "python",
   "name": "python3"
  },
  "language_info": {
   "codemirror_mode": {
    "name": "ipython",
    "version": 3
   },
   "file_extension": ".py",
   "mimetype": "text/x-python",
   "name": "python",
   "nbconvert_exporter": "python",
   "pygments_lexer": "ipython3",
   "version": "3.7.4"
  }
 },
 "nbformat": 4,
 "nbformat_minor": 2
}

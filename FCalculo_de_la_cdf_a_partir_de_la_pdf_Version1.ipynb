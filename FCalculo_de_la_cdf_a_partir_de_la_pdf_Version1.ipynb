{
 "cells": [
  {
   "cell_type": "code",
   "execution_count": 1,
   "metadata": {},
   "outputs": [],
   "source": [
    "import numpy as np"
   ]
  },
  {
   "cell_type": "markdown",
   "metadata": {},
   "source": [
    "Esta función calcula la función de distribución acumulada (cdf) a partir de la función de densidad de probabilidad (pdf). Los argumentos necesarios son dos vectores: las coordenadas x e y la pdf."
   ]
  },
  {
   "cell_type": "code",
   "execution_count": 3,
   "metadata": {},
   "outputs": [],
   "source": [
    "def cdf (x,y):\n",
    "    N = len (x); h = np.empty (N,dtype=float)\n",
    "    h[0] = (y[1] + y[0])*((x[1] - x[0])/2)\n",
    "    for i in np.arange (1,N-1):\n",
    "        h[i] = h[i-1] + (y[i+1] + y[i])*((x[i+1] - x[i])/2)\n",
    "    h[N-1] = 1\n",
    "    return h"
   ]
  }
 ],
 "metadata": {
  "interpreter": {
   "hash": "e68c07a20ef7f62d350c7253084b670dc0cc2d9237f8038092070b02018c0a8b"
  },
  "kernelspec": {
   "display_name": "Python 3.9.7 ('base')",
   "language": "python",
   "name": "python3"
  },
  "language_info": {
   "codemirror_mode": {
    "name": "ipython",
    "version": 3
   },
   "file_extension": ".py",
   "mimetype": "text/x-python",
   "name": "python",
   "nbconvert_exporter": "python",
   "pygments_lexer": "ipython3",
   "version": "3.9.7"
  },
  "orig_nbformat": 4
 },
 "nbformat": 4,
 "nbformat_minor": 2
}
